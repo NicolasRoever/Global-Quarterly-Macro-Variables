{
 "cells": [
  {
   "cell_type": "code",
   "execution_count": null,
   "metadata": {},
   "outputs": [],
   "source": [
    "import matplotlib.dates as mdates\n",
    "import matplotlib.pyplot as plt\n",
    "import pandas as pd\n",
    "import seaborn as sns"
   ]
  },
  {
   "cell_type": "code",
   "execution_count": null,
   "metadata": {},
   "outputs": [],
   "source": [
    "def _make_missing_values_heatmap(data, data_name, index=None):\n",
    "    \"\"\"Generates a heatmap indicating the presence of 0 values in the DataFrame.\n",
    "\n",
    "    Parameters:\n",
    "        data (DataFrame): The pandas DataFrame to analyze.\n",
    "        data_name (str): The name of the DataFrame.\n",
    "\n",
    "    Returns:\n",
    "        None\n",
    "    \"\"\"\n",
    "    if index:\n",
    "        data = data.set_index(index)\n",
    "\n",
    "    # Create a DataFrame indicating 0 and infinity values\n",
    "    data = data.isnull()\n",
    "\n",
    "    # Create the heatmap\n",
    "    plt.figure(figsize=(10, 6))\n",
    "    sns.heatmap(data, cbar=False, cmap=\"viridis\")\n",
    "    plt.title(\"Missing Values in Dataset \" + data_name)\n",
    "    plt.show()"
   ]
  },
  {
   "cell_type": "code",
   "execution_count": null,
   "metadata": {},
   "outputs": [],
   "source": [
    "def plot_time_series(data, variable):\n",
    "    \"\"\"Plot a time series of a given variable for all countries in the dataset.\n",
    "\n",
    "    Parameters:\n",
    "    data (pd.DataFrame): The dataset containing the time series data.\n",
    "    variable (str): The name of the variable to plot.\n",
    "    \"\"\"\n",
    "    import matplotlib.dates as mdates\n",
    "    import matplotlib.pyplot as plt\n",
    "\n",
    "    # Ensure 'Date' column is in datetime format\n",
    "    data[\"Date\"] = pd.to_datetime(data[\"Date\"])\n",
    "\n",
    "    plt.figure(figsize=(10, 6))\n",
    "\n",
    "    for country in data[\"Country\"].unique():\n",
    "        country_data = data[data[\"Country\"] == country]\n",
    "        plt.plot(country_data[\"Date\"], country_data[variable], label=country)\n",
    "\n",
    "    plt.gca().xaxis.set_major_formatter(\n",
    "        mdates.DateFormatter(\"%Y\"),\n",
    "    )  # Format dates as 'YYYY'\n",
    "    plt.gca().xaxis.set_major_locator(\n",
    "        mdates.YearLocator(base=5),\n",
    "    )  # Place ticks on the x-axis every 5 years\n",
    "\n",
    "    plt.xlabel(\"Date\")\n",
    "    plt.ylabel(variable)\n",
    "    plt.title(f\"{variable} Over Time for All Countries\")\n",
    "    plt.legend()\n",
    "\n",
    "    plt.xticks(rotation=45)  # Rotate x-axis labels\n",
    "\n",
    "    plt.show()"
   ]
  },
  {
   "cell_type": "code",
   "execution_count": null,
   "metadata": {},
   "outputs": [],
   "source": [
    "data = pd.read_csv(\n",
    "    \"/Users/nicolasroever/Desktop/Global Macro Variables/global_macro_variables/output_data.csv\",\n",
    ")\n",
    "data[\"Date\"] = pd.to_datetime(data[\"Date\"])"
   ]
  },
  {
   "cell_type": "code",
   "execution_count": null,
   "metadata": {},
   "outputs": [],
   "source": [
    "data.head()"
   ]
  },
  {
   "cell_type": "code",
   "execution_count": null,
   "metadata": {},
   "outputs": [],
   "source": [
    "_make_missing_values_heatmap(data, \"Global Macro Variables\", index=\"Date\")"
   ]
  },
  {
   "cell_type": "code",
   "execution_count": null,
   "metadata": {},
   "outputs": [],
   "source": [
    "_make_missing_values_heatmap(\n",
    "    data.loc[data[\"Date\"] >= pd.to_datetime(\"2000-01-01\")],\n",
    "    \"Global Macro Variables\",\n",
    "    index=[\"Date\", \"Country\"],\n",
    ")"
   ]
  },
  {
   "cell_type": "code",
   "execution_count": null,
   "metadata": {},
   "outputs": [],
   "source": [
    "data.columns"
   ]
  },
  {
   "cell_type": "code",
   "execution_count": null,
   "metadata": {},
   "outputs": [],
   "source": [
    "data[\"Country\"].unique()"
   ]
  },
  {
   "cell_type": "code",
   "execution_count": null,
   "metadata": {},
   "outputs": [],
   "source": [
    "plot_time_series(data, \"3_Month_US_Treasury_Yield_Quarterly_Mean\")"
   ]
  },
  {
   "cell_type": "code",
   "execution_count": null,
   "metadata": {},
   "outputs": [],
   "source": [
    "plot_time_series(data.loc[data[\"Country\"] == \"Russia\"], \"10y_Maturity_Bond_Yield\")"
   ]
  },
  {
   "cell_type": "code",
   "execution_count": null,
   "metadata": {},
   "outputs": [],
   "source": [
    "plot_time_series(data, \"10y_Maturity_Bond_Yield\")"
   ]
  },
  {
   "cell_type": "code",
   "execution_count": null,
   "metadata": {},
   "outputs": [],
   "source": [
    "plot_time_series(data.loc[data[\"Country\"] == \"USA\"], \"Current_Account_in_USD\")"
   ]
  },
  {
   "cell_type": "code",
   "execution_count": null,
   "metadata": {},
   "outputs": [],
   "source": [
    "plot_time_series(data, \"Current_Account_in_USD\")"
   ]
  },
  {
   "cell_type": "code",
   "execution_count": null,
   "metadata": {},
   "outputs": [],
   "source": [
    "plot_time_series(\n",
    "    data.loc[data[\"Country\"] == \"New Zealand\",],\n",
    "    \"Real_Quarterly_GVA_in_Domestic_Currency\",\n",
    ")"
   ]
  },
  {
   "cell_type": "code",
   "execution_count": null,
   "metadata": {},
   "outputs": [],
   "source": [
    "plot_time_series(data, \"Real_Quarterly_GVA_in_Domestic_Currency\")"
   ]
  },
  {
   "cell_type": "code",
   "execution_count": null,
   "metadata": {},
   "outputs": [],
   "source": [
    "plot_time_series(\n",
    "    data.loc[data[\"Country\"] == \"Germany\",],\n",
    "    \"Eurostat_CPI_Annualised Growth_Rate\",\n",
    ")"
   ]
  },
  {
   "cell_type": "code",
   "execution_count": null,
   "metadata": {},
   "outputs": [],
   "source": [
    "plot_time_series(data, \"Eurostat_CPI_Annualised Growth_Rate\")"
   ]
  },
  {
   "cell_type": "code",
   "execution_count": null,
   "metadata": {},
   "outputs": [],
   "source": [
    "# Assuming 'data' is your DataFrame and it has columns 'Date', 'Country', and 'Public Debt (% of GDP)'\n",
    "plt.figure(figsize=(10, 6))\n",
    "\n",
    "for country in data[\"Country\"].unique():\n",
    "    country_data = data[data[\"Country\"] == country]\n",
    "    plt.plot(\n",
    "        country_data[\"Date\"],\n",
    "        country_data[\"Public_Debt_as_%_of_GDP\"],\n",
    "        label=country,\n",
    "    )\n",
    "\n",
    "plt.gca().xaxis.set_major_formatter(\n",
    "    mdates.DateFormatter(\"%Y\"),\n",
    ")  # Format dates as 'YYYY-MM-DD'\n",
    "plt.gca().xaxis.set_major_locator(\n",
    "    mdates.YearLocator(base=5),\n",
    ")  # Place ticks on the x-axis once per year\n",
    "\n",
    "plt.xlabel(\"Date\")\n",
    "plt.ylabel(\"Public Debt (% of GDP)\")\n",
    "plt.title(\"Public Debt as % of GDP Over Time for All Countries\")\n",
    "plt.legend()\n",
    "plt.xticks(rotation=45)  # Rotate x-axis labels\n",
    "plt.show()"
   ]
  },
  {
   "cell_type": "code",
   "execution_count": null,
   "metadata": {},
   "outputs": [],
   "source": [
    "# Assuming 'data' is your DataFrame and it has columns 'Date', 'Country', and 'Public Debt (% of GDP)'\n",
    "plt.figure(figsize=(10, 6))\n",
    "\n",
    "for country in [\"Ireland\"]:\n",
    "    country_data = data[data[\"Country\"] == country]\n",
    "    plt.plot(\n",
    "        country_data[\"Date\"],\n",
    "        country_data[\"Public_Debt_as_%_of_GDP\"],\n",
    "        label=country,\n",
    "    )\n",
    "\n",
    "plt.gca().xaxis.set_major_formatter(\n",
    "    mdates.DateFormatter(\"%Y\"),\n",
    ")  # Format dates as 'YYYY-MM-DD'\n",
    "plt.gca().xaxis.set_major_locator(\n",
    "    mdates.YearLocator(base=5),\n",
    ")  # Place ticks on the x-axis once per year\n",
    "\n",
    "plt.xlabel(\"Date\")\n",
    "plt.ylabel(\"Public Debt (% of GDP)\")\n",
    "plt.title(\"Public Debt as % of GDP Over Time for All Countries\")\n",
    "plt.legend()\n",
    "plt.xticks(rotation=45)  # Rotate x-axis labels\n",
    "plt.show()"
   ]
  },
  {
   "cell_type": "code",
   "execution_count": null,
   "metadata": {},
   "outputs": [],
   "source": [
    "# Assuming 'data' is your DataFrame and it has columns 'Date', 'Country', and 'Public Debt (% of GDP)'\n",
    "plt.figure(figsize=(10, 6))\n",
    "\n",
    "for country in [\"USA\"]:\n",
    "    country_data = data[data[\"Country\"] == country]\n",
    "    plt.plot(\n",
    "        country_data[\"Date\"],\n",
    "        country_data[\"VIX_Daily_Close_Quarterly_Mean\"],\n",
    "        label=country,\n",
    "    )\n",
    "\n",
    "plt.gca().xaxis.set_major_formatter(\n",
    "    mdates.DateFormatter(\"%Y\"),\n",
    ")  # Format dates as 'YYYY-MM-DD'\n",
    "plt.gca().xaxis.set_major_locator(\n",
    "    mdates.YearLocator(base=5),\n",
    ")  # Place ticks on the x-axis once per year\n",
    "\n",
    "plt.xlabel(\"Date\")\n",
    "plt.ylabel(\"Public Debt (% of GDP)\")\n",
    "plt.title(\"Public Debt as % of GDP Over Time for All Countries\")\n",
    "plt.legend()\n",
    "plt.xticks(rotation=45)  # Rotate x-axis labels\n",
    "plt.show()"
   ]
  },
  {
   "cell_type": "code",
   "execution_count": null,
   "metadata": {},
   "outputs": [],
   "source": [
    "plt.figure(figsize=(10, 6))\n",
    "\n",
    "for country in data[\"Country\"].unique():\n",
    "    country_data = data[data[\"Country\"] == country]\n",
    "    plt.plot(\n",
    "        country_data[\"Date\"],\n",
    "        country_data[\"GDP_in_USD_Current_Prices\"],\n",
    "        label=country,\n",
    "    )\n",
    "\n",
    "plt.gca().xaxis.set_major_formatter(\n",
    "    mdates.DateFormatter(\"%Y\"),\n",
    ")  # Format dates as 'YYYY-MM-DD'\n",
    "plt.gca().xaxis.set_major_locator(\n",
    "    mdates.YearLocator(base=5),\n",
    ")  # Place ticks on the x-axis once per year\n",
    "\n",
    "plt.xlabel(\"Date\")\n",
    "plt.ylabel(\"Public Debt (% of GDP)\")\n",
    "plt.title(\"Public Debt as % of GDP Over Time for All Countries\")\n",
    "plt.legend()\n",
    "plt.xticks(rotation=45)  # Rotate x-axis labels\n",
    "plt.show()"
   ]
  }
 ],
 "metadata": {
  "language_info": {
   "codemirror_mode": {
    "name": "ipython",
    "version": 3
   },
   "file_extension": ".py",
   "mimetype": "text/x-python",
   "name": "python",
   "nbconvert_exporter": "python",
   "pygments_lexer": "ipython3"
  }
 },
 "nbformat": 4,
 "nbformat_minor": 2
}
