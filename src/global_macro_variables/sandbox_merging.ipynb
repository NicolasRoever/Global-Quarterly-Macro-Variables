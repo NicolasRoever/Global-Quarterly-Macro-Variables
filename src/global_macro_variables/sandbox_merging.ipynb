{
 "cells": [
  {
   "cell_type": "code",
   "execution_count": null,
   "metadata": {},
   "outputs": [],
   "source": [
    "import matplotlib.pyplot as plt\n",
    "import pandas as pd\n",
    "import seaborn as sns"
   ]
  },
  {
   "cell_type": "code",
   "execution_count": null,
   "metadata": {},
   "outputs": [],
   "source": [
    "COUNTRY_CODES_AND_NAMES_MAPPING = {\n",
    "    \"JPN\": \"Japan\",\n",
    "    \"DEU\": \"Germany\",\n",
    "    \"USA\": \"USA\",\n",
    "    \"GBR\": \"United Kingdom\",\n",
    "    \"IND\": \"India\",\n",
    "    \"CAN\": \"Canada\",\n",
    "    \"FRA\": \"France\",\n",
    "    \"ITA\": \"Italy\",\n",
    "    \"AUS\": \"Australia\",\n",
    "    \"CHE\": \"Switzerland\",\n",
    "    \"ESP\": \"Spain\",\n",
    "    \"GRC\": \"Greece\",\n",
    "    \"MEX\": \"Mexico\",\n",
    "    \"ZAF\": \"South Africa\",\n",
    "    \"KOR\": \"South Korea\",\n",
    "    \"NLD\": \"Netherlands\",\n",
    "    \"SWE\": \"Sweden\",\n",
    "    \"IRL\": \"Ireland\",\n",
    "    \"BEL\": \"Belgium\",\n",
    "    \"NZL\": \"New Zealand\",\n",
    "    \"DNK\": \"Denmark\",\n",
    "    \"POL\": \"Poland\",\n",
    "    \"LUX\": \"Luxembourg\",\n",
    "    \"NOR\": \"Norway\",\n",
    "    \"PRT\": \"Portugal\",\n",
    "    \"CHL\": \"Chile\",\n",
    "    \"AUT\": \"Austria\",\n",
    "    \"ISR\": \"Israel\",\n",
    "    \"HUN\": \"Hungary\",\n",
    "    \"RUS\": \"Russia\",\n",
    "    \"FIN\": \"Finland\",\n",
    "    \"COL\": \"Colombia\",\n",
    "    \"LVA\": \"Latvia\",\n",
    "    \"SVK\": \"Slovak Republic\",\n",
    "    \"CRI\": \"Costa Rica\",\n",
    "    \"SVN\": \"Slovenia\",\n",
    "    \"LTU\": \"Lithuania\",\n",
    "    \"CZE\": \"Czech Republic\",\n",
    "    \"ISL\": \"Iceland\",\n",
    "}"
   ]
  },
  {
   "cell_type": "code",
   "execution_count": null,
   "metadata": {},
   "outputs": [],
   "source": [
    "def _make_missing_values_heatmap(data, data_name, index=None):\n",
    "    \"\"\"Generates a heatmap indicating the presence of 0 values in the DataFrame.\n",
    "\n",
    "    Parameters:\n",
    "        data (DataFrame): The pandas DataFrame to analyze.\n",
    "        data_name (str): The name of the DataFrame.\n",
    "\n",
    "    Returns:\n",
    "        None\n",
    "    \"\"\"\n",
    "    if index:\n",
    "        data = data.set_index(index)\n",
    "        data = data.sort_index()\n",
    "\n",
    "    # Create a DataFrame indicating 0 and infinity values\n",
    "    data = data.isnull()\n",
    "\n",
    "    # Create the heatmap\n",
    "    plt.figure(figsize=(10, 6))\n",
    "    sns.heatmap(data, cbar=False, cmap=\"viridis\")\n",
    "    plt.title(\"Missing Values in Dataset \" + data_name)\n",
    "    plt.show()"
   ]
  },
  {
   "cell_type": "code",
   "execution_count": null,
   "metadata": {},
   "outputs": [],
   "source": [
    "cpi = pd.read_pickle(\n",
    "    \"/Users/nicolasroever/Desktop/Global Macro Variables/global_macro_variables/bld/cpi.pkl\",\n",
    ")\n",
    "\n",
    "cpi.head()"
   ]
  },
  {
   "cell_type": "code",
   "execution_count": null,
   "metadata": {},
   "outputs": [],
   "source": [
    "quarterly_gdp_usd = pd.read_pickle(\n",
    "    \"/Users/nicolasroever/Desktop/Global Macro Variables/global_macro_variables/bld/quarterly_gdp_USD.pkl\",\n",
    ")\n",
    "quarterly_gdp_usd.head()"
   ]
  },
  {
   "cell_type": "code",
   "execution_count": null,
   "metadata": {},
   "outputs": [],
   "source": [
    "merge = pd.merge(\n",
    "    cpi,\n",
    "    quarterly_gdp_usd,\n",
    "    on=[\"REF_AREA\", \"Date\"],\n",
    "    how=\"left\",\n",
    "    validate=\"one_to_one\",\n",
    ")"
   ]
  },
  {
   "cell_type": "code",
   "execution_count": null,
   "metadata": {},
   "outputs": [],
   "source": [
    "_make_missing_values_heatmap(merge, \"merge\", index=[\"Date\"])"
   ]
  },
  {
   "cell_type": "code",
   "execution_count": null,
   "metadata": {},
   "outputs": [],
   "source": [
    "debt_by_GDP = pd.read_pickle(\n",
    "    \"/Users/nicolasroever/Desktop/Global Macro Variables/global_macro_variables/bld/debt_by_GDP.pkl\",\n",
    ")"
   ]
  },
  {
   "cell_type": "code",
   "execution_count": null,
   "metadata": {},
   "outputs": [],
   "source": [
    "debt_by_GDP.head()"
   ]
  },
  {
   "cell_type": "code",
   "execution_count": null,
   "metadata": {},
   "outputs": [],
   "source": [
    "debt_by_GDP"
   ]
  },
  {
   "cell_type": "code",
   "execution_count": null,
   "metadata": {},
   "outputs": [],
   "source": [
    "print(\n",
    "    debt_by_GDP[\n",
    "        (debt_by_GDP[\"REF_AREA\"] == \"USA\")\n",
    "        & (debt_by_GDP[\"Date\"] == pd.to_datetime(\"1960-10-01\"))\n",
    "    ],\n",
    ")"
   ]
  },
  {
   "cell_type": "code",
   "execution_count": null,
   "metadata": {},
   "outputs": [],
   "source": [
    "merge_2 = pd.merge(\n",
    "    merge,\n",
    "    debt_by_GDP,\n",
    "    on=[\"REF_AREA\", \"Date\"],\n",
    "    how=\"right\",\n",
    "    validate=\"one_to_one\",\n",
    ")"
   ]
  },
  {
   "cell_type": "code",
   "execution_count": null,
   "metadata": {},
   "outputs": [],
   "source": [
    "current_account = pd.read_pickle(\n",
    "    \"/Users/nicolasroever/Desktop/Global Macro Variables/global_macro_variables/bld/current_account.pkl\",\n",
    ")"
   ]
  },
  {
   "cell_type": "code",
   "execution_count": null,
   "metadata": {},
   "outputs": [],
   "source": [
    "merge_3 = pd.merge(\n",
    "    merge_2,\n",
    "    current_account,\n",
    "    on=[\"REF_AREA\", \"Date\"],\n",
    "    how=\"left\",\n",
    "    validate=\"one_to_one\",\n",
    ")"
   ]
  },
  {
   "cell_type": "code",
   "execution_count": null,
   "metadata": {},
   "outputs": [],
   "source": [
    "merge_3.head()"
   ]
  },
  {
   "cell_type": "code",
   "execution_count": null,
   "metadata": {},
   "outputs": [],
   "source": [
    "_make_missing_values_heatmap(merge_3, \"merge\", index=[\"Date\"])"
   ]
  },
  {
   "cell_type": "code",
   "execution_count": null,
   "metadata": {},
   "outputs": [],
   "source": [
    "real_quarterly_gva = pd.read_pickle(\n",
    "    \"/Users/nicolasroever/Desktop/Global Macro Variables/global_macro_variables/bld/real_quarterly_gva.pkl\",\n",
    ")"
   ]
  },
  {
   "cell_type": "code",
   "execution_count": null,
   "metadata": {},
   "outputs": [],
   "source": [
    "real_quarterly_gva.duplicated().sum()"
   ]
  },
  {
   "cell_type": "code",
   "execution_count": null,
   "metadata": {},
   "outputs": [],
   "source": [
    "merge_4 = pd.merge(\n",
    "    merge_3,\n",
    "    real_quarterly_gva,\n",
    "    on=[\"REF_AREA\", \"Date\"],\n",
    "    how=\"left\",\n",
    "    validate=\"one_to_one\",\n",
    ")"
   ]
  },
  {
   "cell_type": "code",
   "execution_count": null,
   "metadata": {},
   "outputs": [],
   "source": [
    "_make_missing_values_heatmap(merge_4, \"merge\", index=[\"Date\"])"
   ]
  },
  {
   "cell_type": "code",
   "execution_count": null,
   "metadata": {},
   "outputs": [],
   "source": [
    "current_account = pd.read_pickle(\n",
    "    \"/Users/nicolasroever/Desktop/Global Macro Variables/global_macro_variables/bld/current_account.pkl\",\n",
    ")"
   ]
  },
  {
   "cell_type": "code",
   "execution_count": null,
   "metadata": {},
   "outputs": [],
   "source": [
    "merge_5 = pd.merge(\n",
    "    merge_4,\n",
    "    current_account,\n",
    "    on=[\"REF_AREA\", \"Date\"],\n",
    "    how=\"left\",\n",
    "    validate=\"one_to_one\",\n",
    ")"
   ]
  },
  {
   "cell_type": "code",
   "execution_count": null,
   "metadata": {},
   "outputs": [],
   "source": [
    "_make_missing_values_heatmap(merge_5, \"merge\", index=[\"Date\"])"
   ]
  },
  {
   "cell_type": "code",
   "execution_count": null,
   "metadata": {},
   "outputs": [],
   "source": [
    "merge_5[\"Country\"] = merge_5[\"REF_AREA\"].map(COUNTRY_CODES_AND_NAMES_MAPPING)"
   ]
  },
  {
   "cell_type": "code",
   "execution_count": null,
   "metadata": {},
   "outputs": [],
   "source": [
    "merge_5[\"Country\"].isna().sum()"
   ]
  },
  {
   "cell_type": "code",
   "execution_count": null,
   "metadata": {},
   "outputs": [],
   "source": [
    "interest_rates = pd.read_pickle(\n",
    "    \"/Users/nicolasroever/Desktop/Global Macro Variables/global_macro_variables/bld/10_year_maturity_bond_yields.pkl\",\n",
    ")"
   ]
  },
  {
   "cell_type": "code",
   "execution_count": null,
   "metadata": {},
   "outputs": [],
   "source": [
    "merge_6 = pd.merge(\n",
    "    merge_5,\n",
    "    interest_rates,\n",
    "    on=[\"Country\", \"Date\"],\n",
    "    how=\"left\",\n",
    "    validate=\"one_to_one\",\n",
    ")"
   ]
  },
  {
   "cell_type": "code",
   "execution_count": null,
   "metadata": {},
   "outputs": [],
   "source": [
    "us_treasuries = pd.read_pickle(\n",
    "    \"/Users/nicolasroever/Desktop/Global Macro Variables/global_macro_variables/bld/3_month_US_treasuries.pkl\",\n",
    ")"
   ]
  },
  {
   "cell_type": "code",
   "execution_count": null,
   "metadata": {},
   "outputs": [],
   "source": [
    "vix = pd.read_pickle(\n",
    "    \"/Users/nicolasroever/Desktop/Global Macro Variables/global_macro_variables/bld/vix.pkl\",\n",
    ")"
   ]
  },
  {
   "cell_type": "code",
   "execution_count": null,
   "metadata": {},
   "outputs": [],
   "source": [
    "def turn_daily_time_series_into_quarterly_data(data):\n",
    "    \"\"\"This function turns daily data into quarterly data by taking the quarterly mean.\"\"\"\n",
    "    # Create a dictionary of old and new column names\n",
    "    rename_dict = {\n",
    "        col: col + \"_Quarterly_Mean\" if col != \"Date\" else col for col in data.columns\n",
    "    }\n",
    "\n",
    "    output_data = data.resample(\"QE\", on=\"Date\").mean().rename(columns=rename_dict)\n",
    "\n",
    "    # Convert the index to a 'Date_Quarterly' column\n",
    "    output_data[\"Date_Quarterly\"] = output_data.index.to_period(\"Q\")\n",
    "\n",
    "    # Reset the index\n",
    "    return output_data.reset_index(drop=True)"
   ]
  },
  {
   "cell_type": "code",
   "execution_count": null,
   "metadata": {},
   "outputs": [],
   "source": [
    "vix_quarterly = turn_daily_time_series_into_quarterly_data(vix)"
   ]
  },
  {
   "cell_type": "code",
   "execution_count": null,
   "metadata": {},
   "outputs": [],
   "source": [
    "vix_quarterly.head()"
   ]
  },
  {
   "cell_type": "code",
   "execution_count": null,
   "metadata": {},
   "outputs": [],
   "source": [
    "nasdaq = pd.read_pickle(\n",
    "    \"/Users/nicolasroever/Desktop/Global Macro Variables/global_macro_variables/bld/nasdaq.pkl\",\n",
    ")"
   ]
  },
  {
   "cell_type": "code",
   "execution_count": null,
   "metadata": {},
   "outputs": [],
   "source": [
    "nasdaq_quarterly = turn_daily_time_series_into_quarterly_data(nasdaq)"
   ]
  },
  {
   "cell_type": "code",
   "execution_count": null,
   "metadata": {},
   "outputs": [],
   "source": [
    "merge_1 = pd.merge(\n",
    "    nasdaq_quarterly,\n",
    "    vix_quarterly,\n",
    "    on=[\"Date_Quarterly\"],\n",
    "    how=\"left\",\n",
    "    validate=\"one_to_one\",\n",
    ")"
   ]
  },
  {
   "cell_type": "code",
   "execution_count": null,
   "metadata": {},
   "outputs": [],
   "source": [
    "merge_1"
   ]
  },
  {
   "cell_type": "code",
   "execution_count": null,
   "metadata": {},
   "outputs": [],
   "source": [
    "_make_missing_values_heatmap(merge_1, \"merge\", index=[\"Date_Quarterly\"])"
   ]
  },
  {
   "cell_type": "code",
   "execution_count": null,
   "metadata": {},
   "outputs": [],
   "source": [
    "three_month_us_treasuries = pd.read_pickle(\n",
    "    \"/Users/nicolasroever/Desktop/Global Macro Variables/global_macro_variables/bld/3_month_US_treasuries.pkl\",\n",
    ")"
   ]
  },
  {
   "cell_type": "code",
   "execution_count": null,
   "metadata": {},
   "outputs": [],
   "source": [
    "three_month_us_treasuries_quarterly = turn_daily_time_series_into_quarterly_data(\n",
    "    three_month_us_treasuries,\n",
    ")"
   ]
  },
  {
   "cell_type": "code",
   "execution_count": null,
   "metadata": {},
   "outputs": [],
   "source": [
    "three_month_us_treasuries.head()"
   ]
  },
  {
   "cell_type": "code",
   "execution_count": null,
   "metadata": {},
   "outputs": [],
   "source": [
    "merge_1.columns"
   ]
  },
  {
   "cell_type": "code",
   "execution_count": null,
   "metadata": {},
   "outputs": [],
   "source": [
    "merge_2 = pd.merge(\n",
    "    merge_1,\n",
    "    three_month_us_treasuries_quarterly,\n",
    "    on=[\"Date_Quarterly\"],\n",
    "    how=\"left\",\n",
    "    validate=\"one_to_one\",\n",
    ")"
   ]
  },
  {
   "cell_type": "code",
   "execution_count": null,
   "metadata": {},
   "outputs": [],
   "source": [
    "_make_missing_values_heatmap(merge_2, \"merge\", index=[\"Date_Quarterly\"])"
   ]
  }
 ],
 "metadata": {
  "language_info": {
   "codemirror_mode": {
    "name": "ipython",
    "version": 3
   },
   "file_extension": ".py",
   "mimetype": "text/x-python",
   "name": "python",
   "nbconvert_exporter": "python",
   "pygments_lexer": "ipython3"
  }
 },
 "nbformat": 4,
 "nbformat_minor": 2
}
