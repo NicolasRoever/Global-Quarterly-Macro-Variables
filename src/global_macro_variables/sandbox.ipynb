{
 "cells": [
  {
   "cell_type": "code",
   "execution_count": null,
   "metadata": {},
   "outputs": [],
   "source": [
    "import pandas as pd\n",
    "import requests\n",
    "import xmltodict"
   ]
  },
  {
   "cell_type": "code",
   "execution_count": null,
   "metadata": {},
   "outputs": [],
   "source": [
    "data = pd.read_pickle(\n",
    "    \"/Users/nicolasroever/Desktop/Global Macro Variables/global_macro_variables/bld/10_year_maturity_bond_yields_quarterly.pkl\",\n",
    ")"
   ]
  },
  {
   "cell_type": "code",
   "execution_count": null,
   "metadata": {},
   "outputs": [],
   "source": [
    "data.head()"
   ]
  },
  {
   "cell_type": "code",
   "execution_count": null,
   "metadata": {},
   "outputs": [],
   "source": [
    "current_account = pd.read_pickle(\n",
    "    \"/Users/nicolasroever/Desktop/Global Macro Variables/global_macro_variables/bld/current_account.pkl\",\n",
    ")"
   ]
  },
  {
   "cell_type": "code",
   "execution_count": null,
   "metadata": {},
   "outputs": [],
   "source": [
    "current_account.head()"
   ]
  },
  {
   "cell_type": "code",
   "execution_count": null,
   "metadata": {},
   "outputs": [],
   "source": [
    "s_and_p_500 = pd.read_pickle(\n",
    "    \"/Users/nicolasroever/Desktop/Global Macro Variables/global_macro_variables/bld/10_year_maturity_bond_yields.pkl\",\n",
    ")"
   ]
  },
  {
   "cell_type": "code",
   "execution_count": null,
   "metadata": {},
   "outputs": [],
   "source": [
    "s_and_p_500.Country.unique()"
   ]
  },
  {
   "cell_type": "code",
   "execution_count": null,
   "metadata": {},
   "outputs": [],
   "source": [
    "oecd = pd.read_csv(\n",
    "    \"/Users/nicolasroever/Desktop/Global Macro Variables/global_macro_variables/output_data.csv\",\n",
    ")"
   ]
  },
  {
   "cell_type": "code",
   "execution_count": null,
   "metadata": {},
   "outputs": [],
   "source": [
    "oecd[oecd[\"Country\"] == \"Germany\"]"
   ]
  },
  {
   "cell_type": "code",
   "execution_count": null,
   "metadata": {},
   "outputs": [],
   "source": [
    "OECD_REAL_QUARTERLY_GDP_QUERY_LINK = \"https://sdmx.oecd.org/public/rest/data/OECD.SDD.NAD,DSD_NAMAIN1@DF_QNA_BY_ACTIVITY_OUTPUT,1.0/Q.N....B1GQ.....Q..?dimensionAtObservation=AllDimensions\""
   ]
  },
  {
   "cell_type": "code",
   "execution_count": null,
   "metadata": {},
   "outputs": [],
   "source": [
    "r = requests.get(OECD_REAL_QUARTERLY_GDP_QUERY_LINK)\n",
    "data_as_dictionary = xmltodict.parse(r.content)"
   ]
  },
  {
   "cell_type": "code",
   "execution_count": null,
   "metadata": {},
   "outputs": [],
   "source": [
    "observation_dictionary = data_as_dictionary[\"message:GenericData\"][\"message:DataSet\"][\n",
    "    \"generic:Obs\"\n",
    "]"
   ]
  },
  {
   "cell_type": "code",
   "execution_count": null,
   "metadata": {},
   "outputs": [],
   "source": [
    "observation_dictionary"
   ]
  },
  {
   "cell_type": "code",
   "execution_count": null,
   "metadata": {},
   "outputs": [],
   "source": [
    "    \n",
    "\n",
    "\n",
    "\n",
    "\n",
    "        #1. obskey\n",
    "        obs_key_data = observation_dictionary['generic:ObsKey']['generic:Value']\n",
    "        obs_key_dict = {d['@id']: d['@value'] for d in obs_key_data}\n",
    "        #Obs value\n",
    "        obs_value_dict = observation_dictionary['generic:ObsValue']\n",
    "        #ObsAttributes\n",
    "        obs_attributes_data = observation_dictionary['generic:Attributes']['generic:Value']\n",
    "        obs_attributes_dict = {d['@id']: d['@value'] for d in obs_attributes_data}  \n",
    "\n",
    "        full_observation = {**obs_key_dict , **obs_value_dict, **obs_attributes_dict}\n",
    "        full_data = pd.concat([full_data, pd.DataFrame(full_observation, index=[0])])"
   ]
  }
 ],
 "metadata": {
  "language_info": {
   "codemirror_mode": {
    "name": "ipython",
    "version": 3
   },
   "file_extension": ".py",
   "mimetype": "text/x-python",
   "name": "python",
   "nbconvert_exporter": "python",
   "pygments_lexer": "ipython3"
  }
 },
 "nbformat": 4,
 "nbformat_minor": 2
}
